{
 "cells": [
  {
   "cell_type": "markdown",
   "metadata": {},
   "source": [
    "## Data Science Internship\n",
    "#### Regressão\n",
    "##### Autor: Pedro Henrique Braga Lisboa"
   ]
  },
  {
   "cell_type": "markdown",
   "metadata": {},
   "source": [
    "#### Sumário\n",
    "----\n",
    "* [Escolha do modelo](#set_model)\n",
    "* [Treinamento](#training)\n",
    "* [Resultados](#results)"
   ]
  },
  {
   "cell_type": "code",
   "execution_count": null,
   "metadata": {},
   "outputs": [],
   "source": [
    "import os\n",
    "import pandas as pd\n",
    "import numpy as np\n",
    "import joblib as jbl\n",
    "import seaborn as sns\n",
    "import matplotlib\n",
    "import matplotlib.pyplot as plt\n",
    "\n",
    "from sklearn import svm\n",
    "from sklearn import cross_decomposition\n",
    "from sklearn import linear_model\n",
    "from sklearn.metrics import mean_squared_error, r2_score, make_scorer\n",
    "from sklearn.model_selection import TimeSeriesSplit, cross_validate\n",
    "\n",
    "from sklearn.preprocessing import StandardScaler\n",
    "from sklearn.pipeline import Pipeline\n",
    "\n",
    "%matplotlib inline\n",
    "matplotlib.rc('font', family='Arial')\n",
    "sns.set_style(\"whitegrid\")"
   ]
  },
  {
   "cell_type": "code",
   "execution_count": null,
   "metadata": {},
   "outputs": [],
   "source": [
    "dataset = pd.read_csv(\"qualidade_do_ar_preenchida.csv\")\n",
    "dataset.drop([\"Date\", \"Time\", \"Weekday\"], axis=1, inplace=True)\n",
    "outer_n_splits=2\n",
    "inner_n_splits=3\n",
    "\n",
    "inner_tscv = TimeSeriesSplit(n_splits=inner_n_splits)\n",
    "outer_tscv = TimeSeriesSplit(n_splits=outer_n_splits)"
   ]
  },
  {
   "cell_type": "markdown",
   "metadata": {},
   "source": [
    "### Escolha do modelo <a name=\"set_model\"></a>"
   ]
  },
  {
   "cell_type": "markdown",
   "metadata": {},
   "source": [
    "#### Foi observado durante a análise exploratória que algumas variáveis que serão usadas para prever a concentração e CO também são fortemente correlacionadas entre sí (e.g. C6H6(GT) e PT08.S2(NMHC)). Um termo de regularização de norma $L_2$ adicionado à função custo pode impedir o aumento demasiado dos coeficientes de variáveis correlacionadas.   \n",
    "\n",
    "#### No entanto, existe a possibilidade de algumas variáveis selecionadas serem redundantes para prever a concentração de CO. Um termo de regularização de norma $L_1$ pode ser adicionado à função custo do modelo para buscar obter um conjunto esparso de coeficientes, eliminando a contribuição de algumas variáveis. \n",
    "\n",
    "#### Dessa forma, a regressão será feita com o modelo ElasticNet, combinando as duas regularizações. Um procedimento de validação para avaliação dos resultados a partir do Coeficiente de Determinação $R^2$ (ajustado para o caso multilinear) e a raiz do Erro Médio Quadrático(RMSE). \n",
    "#### Um procedimento de validação cruzada com duas rodadas aninhadas será usado para evitar a polarização dos resultados. A seleção do melhor modelo será feita no loop interno do procedimento, e a avaliação do modelo no loop externo. "
   ]
  },
  {
   "cell_type": "markdown",
   "metadata": {},
   "source": [
    "### Treinamento <a name=\"training\"></a>\n",
    "---"
   ]
  },
  {
   "cell_type": "code",
   "execution_count": null,
   "metadata": {},
   "outputs": [],
   "source": [
    "regression_vars = ['C6H6(GT)', 'PT08.S2(NMHC)', 'NOx(GT)',\n",
    "                  'PT08.S3(NOx)', 'NO2(GT)', 'PT08.S4(NO2)', 'PT08.S5(O3)']\n",
    "pred_var = \"PT08.S1(CO)\"\n",
    "\n",
    "def adj_r2(y_true, y_pred, *r2_args):\n",
    "    \"\"\" Score R2 ajustado para o caso multivariável\"\"\"\n",
    "    \n",
    "    r2 = r2_score(y_true, y_pred, *r2_args)\n",
    "    n = dataset.shape[0]\n",
    "    p = dataset.shape[1]\n",
    "    \n",
    "    return 1-(1-r2)*(n-1)/(n-p-1)\n",
    "\n",
    "def build_pipeline(model):\n",
    "    estimators = []\n",
    "    estimators.append(('standardize', StandardScaler()))\n",
    "    estimators.append(('regressor', model))\n",
    "    return Pipeline(estimators)\n",
    "\n",
    "def eval_model(pipeline,verbose=0):\n",
    "    return cross_validate(pipeline,\n",
    "                        dataset.loc[:, regression_vars],\n",
    "                        dataset.loc[:, pred_var],\n",
    "                        scoring={\"neg_mean_squared_error\":\"neg_mean_squared_error\",\n",
    "                                 \"adj_r2\":make_scorer(adj_r2)}, \n",
    "                        cv = outer_tscv,\n",
    "                        return_estimator=True,\n",
    "                        verbose=verbose)\n",
    "\n",
    "model = build_pipeline(linear_model.ElasticNetCV(cv=inner_tscv))\n",
    "results = eval_model(model)\n",
    "results[\"test_neg_mean_squared_error\"] = np.sqrt(results[\"test_neg_mean_squared_error\"]*(-1))"
   ]
  },
  {
   "cell_type": "markdown",
   "metadata": {},
   "source": [
    "### Resultados <a name=\"results\"></a>\n",
    "---"
   ]
  },
  {
   "cell_type": "code",
   "execution_count": null,
   "metadata": {},
   "outputs": [],
   "source": [
    "print(\"Mean Adj R2: \" + '%.2f' % results['test_adj_r2'].mean() \n",
    "      + \" +-\" + ' %.2f' % results['test_adj_r2'].std())\n",
    "print(\"Mean RMSE: \" + '%.2f' % results['test_neg_mean_squared_error'].mean() \n",
    "      + \" +-\" + ' %.2f' % results['test_neg_mean_squared_error'].std())\n",
    "\n",
    "pd.DataFrame({\"Adj R2\":results['test_adj_r2'],\n",
    "              \"RMSE\":results['test_neg_mean_squared_error']}, index=[\"Fold 1\", \"Fold 2\"])"
   ]
  },
  {
   "cell_type": "markdown",
   "metadata": {},
   "source": [
    "#### Os resultados apontam para um bom fit do modelo. Com um coeficiente de determinação em média de 80%, a maior parte da variação da variável dependente é explicada pelo modelo. \n",
    "\n",
    "#### Observando o RMSE, pode-se ter uma ideia do quão próximo as previsões do modelo se aproximam do alvo. Considerando a faixa de valores da variável de predição [640, 2040], os valores do RMSE e os gráficos abaixo, o modelo é capaz de entregar boas estimativas."
   ]
  },
  {
   "cell_type": "code",
   "execution_count": null,
   "metadata": {},
   "outputs": [],
   "source": [
    "fig, axes = plt.subplots(ncols=2, figsize=(15,5))\n",
    "for i, (_, test) in enumerate(outer_tscv.split(dataset)):\n",
    "    X = dataset[regression_vars].iloc[test]\n",
    "    y_true = dataset[pred_var].iloc[test]\n",
    "    y_pred = results['estimator'][i].predict(X)\n",
    "    \n",
    "    x=np.linspace(y_pred.min(),y_pred.max(),101)\n",
    "    axes[i].plot(y_true, y_pred, linestyle='', marker='o', markersize=0.4)\n",
    "    axes[i].plot(x,x)\n",
    "    axes[i].set_xlabel(\"PTS8.S1(CO) True Value\")\n",
    "    axes[i].set_ylabel(\"PTS8.S1(CO) Predicted Value\")\n",
    "    axes[i].set_title(\"Test %i\" % i)\n",
    "fig.suptitle(\"Relation between predicted and true value\");"
   ]
  },
  {
   "cell_type": "code",
   "execution_count": null,
   "metadata": {},
   "outputs": [],
   "source": []
  }
 ],
 "metadata": {
  "kernelspec": {
   "display_name": "radix",
   "language": "python",
   "name": "radix"
  },
  "language_info": {
   "codemirror_mode": {
    "name": "ipython",
    "version": 3
   },
   "file_extension": ".py",
   "mimetype": "text/x-python",
   "name": "python",
   "nbconvert_exporter": "python",
   "pygments_lexer": "ipython3",
   "version": "3.5.2"
  }
 },
 "nbformat": 4,
 "nbformat_minor": 2
}
